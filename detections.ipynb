{
 "cells": [
  {
   "cell_type": "code",
   "execution_count": 1,
   "id": "88a3fbd2-f2a9-4cc4-bc54-59a3e1926728",
   "metadata": {},
   "outputs": [],
   "source": [
    "from opendataval.dataloader import DataFetcher"
   ]
  },
  {
   "cell_type": "code",
   "execution_count": 2,
   "id": "5654289a-905c-4a32-a1e4-c5481998dde4",
   "metadata": {},
   "outputs": [
    {
     "data": {
      "text/plain": [
       "{'2dplanes',\n",
       " 'MiniBooNE',\n",
       " 'adult',\n",
       " 'bbc',\n",
       " 'bbc-embeddings',\n",
       " 'breast_cancer',\n",
       " 'challenge-iris',\n",
       " 'cifar10',\n",
       " 'cifar10-embeddings',\n",
       " 'cifar10-val',\n",
       " 'cifar10-val-embeddings',\n",
       " 'cifar100',\n",
       " 'cifar100-val',\n",
       " 'cifar100-val-embeddings',\n",
       " 'creditcard',\n",
       " 'diabetes',\n",
       " 'digits',\n",
       " 'echoMonths',\n",
       " 'election',\n",
       " 'electricity',\n",
       " 'fashion',\n",
       " 'fried',\n",
       " 'gaussian_classifier',\n",
       " 'gaussian_classifier_high_dim',\n",
       " 'imagenet-val',\n",
       " 'imagenet-val-embeddings',\n",
       " 'imdb',\n",
       " 'imdb-embeddings',\n",
       " 'iris',\n",
       " 'linnerud',\n",
       " 'lowbwt',\n",
       " 'mnist',\n",
       " 'mv',\n",
       " 'nomao',\n",
       " 'pol',\n",
       " 'stl10-embeddings',\n",
       " 'stock',\n",
       " 'svhn-embeddings',\n",
       " 'wave_energy'}"
      ]
     },
     "execution_count": 2,
     "metadata": {},
     "output_type": "execute_result"
    }
   ],
   "source": [
    "from opendataval.dataloader import DataFetcher\n",
    "\n",
    "DataFetcher.datasets_available()  # ['dataset_name1', 'dataset_name2']"
   ]
  },
  {
   "cell_type": "code",
   "execution_count": 3,
   "id": "75943713-bcce-4473-af3a-a0d1fbc0afd5",
   "metadata": {},
   "outputs": [],
   "source": [
    "fetcher = DataFetcher(dataset_name='mnist')\n",
    "\n",
    "fetcher = fetcher.split_dataset_by_count(2000, 2000, 0)"
   ]
  },
  {
   "cell_type": "code",
   "execution_count": 4,
   "id": "fe423350-616f-4dba-9308-2759e0660325",
   "metadata": {},
   "outputs": [],
   "source": [
    "from opendataval.dataloader.noisify import * "
   ]
  },
  {
   "cell_type": "code",
   "execution_count": 157,
   "id": "fd68ca5b-a1c2-466a-8311-86323a91584c",
   "metadata": {},
   "outputs": [],
   "source": [
    "x_train, y_train, x_valid, y_valid, x_test, y_test = fetcher.datapoints"
   ]
  },
  {
   "cell_type": "code",
   "execution_count": 196,
   "id": "fdbc65ce-dc6b-4604-8813-f31f685d49bc",
   "metadata": {},
   "outputs": [],
   "source": [
    "# mix_labels(fetcher, noise_rate =.3)\n",
    "data_dict = add_gauss_noise(fetcher, noise_rate =.3)"
   ]
  },
  {
   "cell_type": "code",
   "execution_count": 197,
   "id": "abefc7ac-f2b6-44c5-880c-9e75a1323f14",
   "metadata": {},
   "outputs": [],
   "source": [
    "def values(dual_sol, training_size):\n",
    "    dualsol = dual_sol\n",
    "\n",
    "    f1k = np.array(dualsol.squeeze())\n",
    "\n",
    "    trainGradient = [0] * training_size\n",
    "    trainGradient = (1 + 1 / (training_size - 1)) * f1k - sum(f1k) / (training_size - 1)\n",
    "    return list(trainGradient)"
   ]
  },
  {
   "cell_type": "code",
   "execution_count": 198,
   "id": "f32ee912-7c34-472e-a49f-154b76c4189b",
   "metadata": {},
   "outputs": [],
   "source": [
    "class DatasetSplit(Dataset):\n",
    
    "\n",
    "    def __init__(self, data_with_labels,numpy_data,label):\n",
    "        self.data_with_labels = data_with_labels\n",
    "        self.dataset = torch.Tensor(numpy_data)\n",
    "        self.targets = torch.LongTensor(label)\n",
    "        self.idxs = np.array([i for i in range(len(label))])\n",
    "    def __len__(self):\n",
    "        return len(self.dataset)\n",
    "\n",
    "    def __getitem__(self, index):\n",
    "        image, label = self.data_with_labels[index]\n",
    "        return image, label"
   ]
  },
  {
   "cell_type": "code",
   "execution_count": 199,
   "id": "a66bda82-fa84-4975-ab37-2313b9c03ae7",
   "metadata": {},
   "outputs": [],
   "source": [
    "import torch\n",
    "from torch.utils.data import Dataset, DataLoader\n",
    "from otdd.pytorch.moments import *\n",
    "from otdd.pytorch.utils import *\n",
    "\n",
    "\n",
    "def process_data(x,y):\n",
    "    index_list = torch.argmax(torch.Tensor(y), dim=1)\n",
    "\n",
    "\n",
    "    index_list = np.array(index_list.tolist())\n",
    "\n",
    "    numpy_data = x\n",
    "    numpy_labels = index_list \n",
    "\n",
    "    assert len(numpy_data) == len(numpy_labels)\n",
    "\n",
    "    data_with_labels = [(data, label) for data, label in zip(numpy_data, numpy_labels)]\n",
    "\n",
    "    batch_size = 32  \n",
    "    dataset = DatasetSplit(data_with_labels,numpy_data,numpy_labels)\n",
    "    data_loader = DataLoader(dataset, batch_size=batch_size, shuffle=True)\n",
    "    \n",
    "    targets1 = dataset.targets\n",
    "    vals1, cts1 = torch.unique(targets1, return_counts=True)\n",
    "    min_labelcount = 2\n",
    "    V1 = torch.sort(vals1[cts1 >= min_labelcount])[0]\n",
    "    idxs1 = np.array([i for i in range(len(targets1))])\n",
    "    classes1 = vals1\n",
    "    \n",
    "    M1, C1 = compute_label_stats(data_loader, targets1, idxs1, classes1, diagonal_cov=True)\n",
    "    # print(M1.shape)\n",
    "    # print(C1.shape)\n",
    "    DA = (dataset.dataset.view(-1,784).to('cuda'), dataset.targets.to('cuda'))\n",
    "    XA = augmented_dataset(DA, means=M1, covs=C1, maxn=10000)\n",
    "    \n",
    "    return XA"
   ]
  },
  {
   "cell_type": "code",
   "execution_count": 200,
   "id": "43fff22e-a3a2-43fb-ad7f-788599f19961",
   "metadata": {},
   "outputs": [
    {
     "name": "stdout",
     "output_type": "stream",
     "text": [
      "in MOMENTS:  False\n"
     ]
    }
   ],
   "source": [
    "XA = process_data(data_dict['x_train'],y_train)"
   ]
  },
  {
   "cell_type": "code",
   "execution_count": 201,
   "id": "5506ec68-5096-4620-b3fa-4a375f41737a",
   "metadata": {},
   "outputs": [
    {
     "name": "stdout",
     "output_type": "stream",
     "text": [
      "in MOMENTS:  False\n"
     ]
    }
   ],
   "source": [
    "XT = process_data(data_dict['x_valid'],y_valid)"
   ]
  },
  {
   "cell_type": "code",
   "execution_count": 202,
   "id": "a1ee9d88-6316-4630-b3d4-1a29595506a1",
   "metadata": {},
   "outputs": [
    {
     "data": {
      "text/plain": [
       "tensor([[ 0.0000,  0.0000,  0.0000,  ...,  0.5418,  0.5391,  0.5318],\n",
       "        [ 0.0000,  0.0000,  0.0000,  ...,  0.5418,  0.5391,  0.5318],\n",
       "        [ 0.0000,  0.0000,  0.0000,  ...,  0.5418,  0.5391,  0.5318],\n",
       "        ...,\n",
       "        [ 1.7831,  0.5955, -0.2589,  ...,  0.5418,  0.5391,  0.5318],\n",
       "        [ 0.3625, -0.6955, -0.2475,  ...,  0.5418,  0.5391,  0.5318],\n",
       "        [-0.2277, -0.1224, -1.9400,  ...,  0.5418,  0.5391,  0.5318]],\n",
       "       device='cuda:0')"
      ]
     },
     "execution_count": 202,
     "metadata": {},
     "output_type": "execute_result"
    }
   ],
   "source": [
    "XA"
   ]
  },
  {
   "cell_type": "code",
   "execution_count": 203,
   "id": "b2c67673-b071-474c-a3f8-57c5ab021477",
   "metadata": {},
   "outputs": [
    {
     "data": {
      "text/plain": [
       "tensor([[ 0.0000,  0.0000,  0.0000,  ...,  0.5147,  0.5615,  0.5308],\n",
       "        [-0.3109,  0.6834, -0.4848,  ...,  0.5147,  0.5615,  0.5308],\n",
       "        [ 0.0000,  0.0000,  0.0000,  ...,  0.5147,  0.5615,  0.5308],\n",
       "        ...,\n",
       "        [-0.6672, -1.8473,  1.2069,  ...,  0.5147,  0.5615,  0.5308],\n",
       "        [ 0.0000,  0.0000,  0.0000,  ...,  0.5147,  0.5615,  0.5308],\n",
       "        [ 0.0000,  0.0000,  0.0000,  ...,  0.5147,  0.5615,  0.5308]],\n",
       "       device='cuda:0')"
      ]
     },
     "execution_count": 203,
     "metadata": {},
     "output_type": "execute_result"
    }
   ],
   "source": [
    "XT"
   ]
  },
  {
   "cell_type": "code",
   "execution_count": 204,
   "id": "c52091b2-ae3d-45e2-b7cc-02f8379ee7fa",
   "metadata": {},
   "outputs": [
    {
     "data": {
      "text/plain": [
       "array([1276,  331, 1997, 1958,  205, 1202,  608, 1413, 1538,  440, 1523,\n",
       "       1226,  962, 1076, 1764,  456,  763, 1525, 1023,  756, 1814,  644,\n",
       "        725, 1934, 1405,  812,  406, 1965, 1606,  931, 1471,  186,  305,\n",
       "        281, 1796, 1218, 1507, 1306, 1737, 1185,   38,  570, 1563,  488,\n",
       "        323,  575,  548, 1396,  534, 1366, 1527, 1869, 1186,  479, 1672,\n",
       "       1805,  889,  938,  755, 1902, 1597,  697,  544, 1983, 1312,   45,\n",
       "       1327, 1879,  580, 1106,  903,  636,  797, 1959,  743,   34,  713,\n",
       "       1489,   39, 1920,  629, 1631,  609, 1007, 1845, 1304, 1616, 1623,\n",
       "       1953,  231,  516, 1158, 1157,  482,  794,  883,  899,  767, 1830,\n",
       "       1533, 1996, 1600,  867, 1749, 1729, 1169,  845,  411, 1711, 1582,\n",
       "       1588,  258,  949,   78, 1041,  153,  541,  679,  628, 1946,  421,\n",
       "       1115, 1581, 1873,  830,  728, 1544,  261, 1475, 1275,  437,  989,\n",
       "       1894,  654,  752, 1361, 1315, 1133,  318,  221,  144, 1858, 1256,\n",
       "        614, 1194,  552, 1402,  813,  981,  641,  919, 1271, 1065,  543,\n",
       "        342,  603,  569, 1062,  826, 1516,  721, 1856, 1284, 1599, 1642,\n",
       "        533, 1317,  491, 1611, 1442, 1057, 1268,  167,  204, 1831,  526,\n",
       "         82, 1773, 1727, 1644,  387, 1451, 1822,  211,  248,  566, 1188,\n",
       "        829,  842,  901,  933, 1676,  230,  101,  935, 1033, 1430, 1895,\n",
       "        374,  964, 1754, 1216, 1980, 1365,  784, 1930,  105,  590, 1693,\n",
       "        207,  117,  547, 1390,  430,    7, 1237,  400,  689, 1882, 1569,\n",
       "        610,  581, 1744, 1677, 1394, 1159,  187, 1938, 1490, 1566, 1641,\n",
       "       1341, 1122, 1248,  856, 1853, 1193,  182,   15, 1099, 1323,  545,\n",
       "       1868,  988,  766, 1152, 1067,    6, 1246, 1369, 1733,  680, 1660,\n",
       "       1552, 1003, 1348,  994, 1874,  594,  335, 1794,  902, 1767,   47,\n",
       "       1769,  129, 1967, 1957,  112,  979, 1518, 1491,  120, 1886,  592,\n",
       "       1903,  990,  222,  114,  225, 1358, 1893, 1104, 1650, 1338,  578,\n",
       "       1109, 1638, 1820,  865, 1297, 1286, 1004, 1520, 1939,  914, 1331,\n",
       "       1808,  346,  764, 1984, 1572, 1592,  894,   40, 1940, 1047,  523,\n",
       "       1136, 1593, 1684,  710,  336,  520, 1999, 1584,  619, 1580,  910,\n",
       "        965, 1789,  809,  942,  714,  369,  733,  128, 1481,  633,  241,\n",
       "        293,  304,   32,  130,  562, 1044, 1000, 1124, 1917, 1819,  429,\n",
       "        973,  108,  386, 1478, 1998, 1454, 1935, 1851,  509, 1309, 1557,\n",
       "       1504, 1447,  905, 1756,  613,  238,  808,  379,  906, 1795,  451,\n",
       "       1385,  165, 1836,  198,  111, 1287,  339,  770, 1086, 1639, 1409,\n",
       "        800,  246,  909,  303, 1844, 1436,  184, 1757, 1499, 1027,   25,\n",
       "       1728,  983,  229,  287, 1950, 1225,  253, 1624,   22,  699,  787,\n",
       "        696,  801,  242,  162,  726,  776,   11,  317, 1775, 1125,  276,\n",
       "        259,  343, 1357, 1905,  537, 1484,  218,  262,  698,  572, 1302,\n",
       "        362, 1562, 1653, 1973, 1081,  916,  646,  403, 1350,  708,  595,\n",
       "       1595, 1658,  203, 1842, 1891, 1112,  779,  367, 1151, 1627,  638,\n",
       "       1328,  266, 1459, 1307,  210,  170,  250,  154, 1726, 1731, 1889,\n",
       "          5, 1382, 1573,  133, 1916, 1288,  418,  539,  670,  345,  353,\n",
       "        958, 1876,  997,  372, 1325,  495, 1630, 1839, 1308, 1964, 1969,\n",
       "       1900, 1377,  796,  496, 1184, 1114, 1745,  817,  131,  672, 1909,\n",
       "       1942,  431, 1277,   12,  460,  854, 1464,  911, 1652, 1141,  760,\n",
       "        391,  298, 1371, 1561, 1498, 1042,  142, 1258, 1140,  667, 1264,\n",
       "        485,  559,  750,  177, 1635, 1661,  741, 1410, 1163,  912, 1419,\n",
       "        425, 1208, 1483, 1051, 1537,  918, 1645,  294, 1861, 1932, 1429,\n",
       "        841, 1817,  163,  950, 1126, 1995,  851, 1947, 1724, 1128, 1130,\n",
       "        189, 1714,  283, 1543, 1859,   70, 1603,  735, 1250,  145,  365,\n",
       "       1960, 1415,  106,  288, 1376,  512, 1446,  908,   56,  326,  992,\n",
       "        503, 1295, 1549,  363, 1245,  270, 1951,  312,  778,  173,  135,\n",
       "        412, 1579, 1040,  172,  734, 1206,  301, 1622,  623, 1865, 1209,\n",
       "       1790,  745, 1294,  999, 1085,  577, 1655,  652, 1976,  188,  200,\n",
       "        718,   64,  761, 1907, 1426,  441])"
      ]
     },
     "execution_count": 204,
     "metadata": {},
     "output_type": "execute_result"
    }
   ],
   "source": [
    "noises = data_dict['noisy_train_indices']\n",
    "noises"
   ]
  },
  {
   "cell_type": "code",
   "execution_count": 205,
   "id": "b09fca25-05c3-4509-8229-cfd504870743",
   "metadata": {},
   "outputs": [],
   "source": [
    "import geomloss\n",
    "loss = geomloss.SamplesLoss(\n",
    "        loss='sinkhorn', p=2,\n",
    "        # cost=cost_geomloss,\n",
    "        debias=True,\n",
    "        blur=0.1 ** (1 / 2),\n",
    "        backend='tensorized',\n",
    "        potentials=True\n",
    "    )"
   ]
  },
  {
   "cell_type": "code",
   "execution_count": 206,
   "id": "73aa67e1-74a4-4c2e-b2ed-be21df6209c2",
   "metadata": {},
   "outputs": [
    {
     "name": "stdout",
     "output_type": "stream",
     "text": [
      "0-th epoch the cost is 107.85235780631534\n",
      "1-th epoch the cost is 57.638281508737435\n",
      "2-th epoch the cost is 35.279750492097406\n",
      "3-th epoch the cost is 26.930019646231898\n",
      "4-th epoch the cost is 24.396924209176895\n",
      "5-th epoch the cost is 23.71354289221463\n",
      "6-th epoch the cost is 23.526080325584374\n",
      "7-th epoch the cost is 23.469092539856785\n",
      "8-th epoch the cost is 23.454330251443302\n",
      "9-th epoch the cost is 23.45063822732041\n"
     ]
    }
   ],
   "source": [
    "from FedLava import FedOT\n",
    "n_supp = 2000\n",
    "n_epoch = 10\n",
    "t_val = 0.5\n",
    "XA = XA.cpu()\n",
    "XT = XT.cpu()\n",
    "fedot_pt1 = FedOT(n_supp=n_supp, n_epoch=n_epoch, metric='sqeuclidean', t_val=t_val)\n",
    "fedot_pt1 = fedot_pt1.fit(XA, XT.requires_grad_(True))\n",
    "int_meas1 = fedot_pt1.int_meas\n"
   ]
  },
  {
   "cell_type": "code",
   "execution_count": null,
   "id": "0ff731e6-7a4a-4507-a32c-6c3d03700eec",
   "metadata": {},
   "outputs": [],
   "source": []
  },
  {
   "cell_type": "code",
   "execution_count": 207,
   "id": "9c2cdfbf-e7a4-4af3-a145-5a9afa56d311",
   "metadata": {},
   "outputs": [],
   "source": [
    "int_meas1 = fedot_pt1.int_meas\n",
    "t_int_meas1= torch.from_numpy(int_meas1)\n",
    "dual1 = np.array(loss(XA.double(), t_int_meas1.double())[0])\n",
    "\n",
    "value = values( torch.from_numpy(dual1), len(XA))\n",
    "counts = np.where( np.array(value)>0)[0]\n",
    "k=0\n",
    "for item in counts:\n",
    "    if item in noises:\n",
    "        k +=1\n",
    "result_1 = k/len(noises)\n",
    "count1 = k"
   ]
  },
  {
   "cell_type": "code",
   "execution_count": 208,
   "id": "a3033a53-c659-45d5-b0c0-3783ab8330cc",
   "metadata": {},
   "outputs": [
    {
     "data": {
      "text/plain": [
       "1.0"
      ]
     },
     "execution_count": 208,
     "metadata": {},
     "output_type": "execute_result"
    }
   ],
   "source": [
    "result_1"
   ]
  },
  {
   "cell_type": "code",
   "execution_count": 209,
   "id": "54a2fe3f-b9bc-4a25-aaa6-57c0638cb137",
   "metadata": {},
   "outputs": [
    {
     "data": {
      "text/plain": [
       "dict_keys(['y_train', 'y_valid', 'noisy_train_indices'])"
      ]
     },
     "execution_count": 209,
     "metadata": {},
     "output_type": "execute_result"
    }
   ],
   "source": [
    "data_dict = mix_labels(fetcher, noise_rate =.3)\n",
    "data_dict.keys()"
   ]
  },
  {
   "cell_type": "code",
   "execution_count": 210,
   "id": "7773ab38-c29e-49b3-b7f1-07ac37e83f7f",
   "metadata": {},
   "outputs": [
    {
     "name": "stdout",
     "output_type": "stream",
     "text": [
      "in MOMENTS:  False\n"
     ]
    }
   ],
   "source": [
    "index_list = torch.argmax(torch.Tensor(data_dict['y_train']), dim=1)\n",
    "train = np.array( [ x_train[i].numpy() for i in range(len(x_train))] )\n",
    "# numpy_data = x\n",
    "numpy_labels = index_list \n",
    "XA = process_data(train,data_dict['y_train'])\n"
   ]
  },
  {
   "cell_type": "code",
   "execution_count": 211,
   "id": "46500632-d23f-483c-862a-09cd8458cee2",
   "metadata": {},
   "outputs": [
    {
     "name": "stdout",
     "output_type": "stream",
     "text": [
      "in MOMENTS:  False\n"
     ]
    }
   ],
   "source": [
    "index_list = torch.argmax(torch.Tensor(data_dict['y_train']), dim=1)\n",
    "valid = np.array( [ x_valid[i].numpy() for i in range(len(x_valid))] )\n",
    "# numpy_data = x\n",
    "numpy_labels = index_list \n",
    "XT = process_data(valid,data_dict['y_valid'])"
   ]
  },
  {
   "cell_type": "code",
   "execution_count": 212,
   "id": "7abd9a5d-c7e8-4a39-b5e7-d94c8855e917",
   "metadata": {},
   "outputs": [
    {
     "name": "stdout",
     "output_type": "stream",
     "text": [
      "0-th epoch the cost is 99.68082302305707\n",
      "1-th epoch the cost is 50.36807803704703\n",
      "2-th epoch the cost is 26.212830935509697\n",
      "3-th epoch the cost is 14.988441611551803\n",
      "4-th epoch the cost is 10.440992024810804\n",
      "5-th epoch the cost is 8.916624862704452\n",
      "6-th epoch the cost is 8.377997269697893\n",
      "7-th epoch the cost is 8.21125070793787\n",
      "8-th epoch the cost is 8.16898919111248\n",
      "9-th epoch the cost is 8.158389606323155\n"
     ]
    }
   ],
   "source": [
    "from FedLava import FedOT\n",
    "n_supp = 2000\n",
    "n_epoch = 10\n",
    "t_val = 0.5\n",
    "XA = XA.cpu()\n",
    "XT = XT.cpu()\n",
    "fedot_pt1 = FedOT(n_supp=n_supp, n_epoch=n_epoch, metric='sqeuclidean', t_val=t_val)\n",
    "fedot_pt1 = fedot_pt1.fit(XA, XT.requires_grad_(True))\n",
    "int_meas1 = fedot_pt1.int_meas"
   ]
  },
  {
   "cell_type": "code",
   "execution_count": 213,
   "id": "78cbdb4c-0ac3-463b-ad77-6e5aa1ed0393",
   "metadata": {},
   "outputs": [
    {
     "name": "stdout",
     "output_type": "stream",
     "text": [
      "0.4583333333333333\n",
      "275\n"
     ]
    }
   ],
   "source": [
    "int_meas1 = fedot_pt1.int_meas\n",
    "t_int_meas1= torch.from_numpy(int_meas1)\n",
    "dual1 = np.array(loss(XA.double(), t_int_meas1.double())[0])\n",
    "\n",
    "value = values( torch.from_numpy(dual1), len(XA))\n",
    "counts = np.where( np.array(value)>0)[0]\n",
    "k=0\n",
    "for item in counts:\n",
    "    if item in noises:\n",
    "        k +=1\n",
    "result_1 = k/len(noises)\n",
    "count1 = k\n",
    "\n",
    "print(result_1)\n",
    "print(count1)"
   ]
  },
  {
   "cell_type": "code",
   "execution_count": 214,
   "id": "d74e629a-b2a5-45a3-9edb-8bc0ba07fcb9",
   "metadata": {},
   "outputs": [
    {
     "name": "stdout",
     "output_type": "stream",
     "text": [
      "0.4666666666666667\n",
      "280\n"
     ]
    }
   ],
   "source": [
    "# If access data samples \n",
    "dual2 = np.array(loss(XA.double(),XT.double())[0])\n",
    "\n",
    "value = values( torch.from_numpy(dual2), len(XA))\n",
    "counts = np.where( np.array(value)>0)[0]\n",
    "k=0\n",
    "for item in counts:\n",
    "    if item in noises:\n",
    "        k +=1\n",
    "result_1 = k/len(noises)\n",
    "count1 = k\n",
    "\n",
    "print(result_1)\n",
    "print(count1)"
   ]
  },
  {
   "cell_type": "code",
   "execution_count": null,
   "id": "e197b789-6a18-4f0f-85fb-dddaadcfa6a4",
   "metadata": {},
   "outputs": [],
   "source": []
  }
 ],
 "metadata": {
  "kernelspec": {
   "display_name": "Python 3 (ipykernel)",
   "language": "python",
   "name": "python3"
  },
  "language_info": {
   "codemirror_mode": {
    "name": "ipython",
    "version": 3
   },
   "file_extension": ".py",
   "mimetype": "text/x-python",
   "name": "python",
   "nbconvert_exporter": "python",
   "pygments_lexer": "ipython3",
   "version": "3.9.12"
  }
 },
 "nbformat": 4,
 "nbformat_minor": 5
}
