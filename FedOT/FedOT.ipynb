{
 "cells": [
  {
   "cell_type": "code",
   "execution_count": 25,
   "metadata": {
    "ExecuteTime": {
     "end_time": "2023-09-25T14:01:56.715385Z",
     "start_time": "2023-09-25T14:01:56.693356Z"
    }
   },
   "outputs": [],
   "source": [
    "\n",
    "import numpy as np\n",
    "\n",
    "import torch.nn as nn\n",
    "import torch.optim as optim"
   ]
  },
  {
   "cell_type": "code",
   "execution_count": 26,
   "outputs": [],
   "source": [
    "import torch\n",
    "import torchvision\n",
    "from torchvision import transforms as transforms\n",
    "\n"
   ],
   "metadata": {
    "collapsed": false,
    "ExecuteTime": {
     "end_time": "2023-09-25T14:01:57.416883Z",
     "start_time": "2023-09-25T14:01:57.396736Z"
    }
   }
  },
  {
   "cell_type": "code",
   "execution_count": 118,
   "outputs": [
    {
     "name": "stdout",
     "output_type": "stream",
     "text": [
      "Files already downloaded and verified\n"
     ]
    }
   ],
   "source": [
    "BATCH_SIZE = 20\n",
    "\n",
    "train_transform = transforms.Compose([transforms.RandomHorizontalFlip(), transforms.ToTensor()])\n",
    "test_transform = transforms.Compose([transforms.ToTensor()])\n",
    "train_set = torchvision.datasets.CIFAR10(root='./data', train=False, download=True, transform=train_transform)\n",
    "train_loader = torch.utils.data.DataLoader(dataset=train_set, batch_size=BATCH_SIZE, shuffle=True) # 10000个sample ( batch 500 ,batch_num 20)"
   ],
   "metadata": {
    "collapsed": false,
    "ExecuteTime": {
     "end_time": "2023-09-25T14:36:46.773341Z",
     "start_time": "2023-09-25T14:36:45.845093Z"
    }
   }
  },
  {
   "cell_type": "code",
   "execution_count": 119,
   "outputs": [],
   "source": [
    "nodes = 5\n",
    "INPUT_DIM = 3*32*32\n",
    "NUM_CLASSES = 10\n",
    "BATCH_SIZE= 20"
   ],
   "metadata": {
    "collapsed": false,
    "ExecuteTime": {
     "end_time": "2023-09-25T14:36:46.807981Z",
     "start_time": "2023-09-25T14:36:46.791162Z"
    }
   }
  },
  {
   "cell_type": "code",
   "execution_count": 120,
   "outputs": [],
   "source": [
    "\n",
    "\n",
    "class AlexNet(nn.Module):\n",
    "    def __init__(self, num_classes=NUM_CLASSES, num=1):\n",
    "        super(AlexNet, self).__init__()\n",
    "        self.features = nn.Sequential(\n",
    "            nn.Conv2d(3, 64, kernel_size=3, stride=2, padding=1),\n",
    "            nn.ReLU(inplace=True),\n",
    "            nn.MaxPool2d(kernel_size=2),\n",
    "            nn.Conv2d(64, 192, kernel_size=3, padding=1),\n",
    "            nn.ReLU(inplace=True),\n",
    "            nn.MaxPool2d(kernel_size=2),\n",
    "            nn.Conv2d(192, 384, kernel_size=3, padding=1),\n",
    "            nn.ReLU(inplace=True),\n",
    "            nn.Conv2d(384, 256, kernel_size=3, padding=1),\n",
    "            nn.ReLU(inplace=True),\n",
    "            nn.Conv2d(256, 256, kernel_size=3, padding=1),\n",
    "            nn.ReLU(inplace=True),\n",
    "            nn.MaxPool2d(kernel_size=2),\n",
    "      )\n",
    "        self.classifier = nn.Sequential(\n",
    "            nn.Dropout(),\n",
    "            nn.Linear(256 * 2 * 2, 4096),\n",
    "            nn.ReLU(inplace=True),\n",
    "            nn.Dropout(),\n",
    "            nn.Linear(4096, 4096),\n",
    "            nn.ReLU(inplace=True),\n",
    "            nn.Linear(4096, num_classes),\n",
    "        )\n",
    "\n",
    "    def forward(self, x):\n",
    "        x = self.features(x)\n",
    "        x = x.view(x.size(0), 256 * 2 * 2)\n",
    "        x = self.classifier(x)\n",
    "        return x"
   ],
   "metadata": {
    "collapsed": false,
    "ExecuteTime": {
     "end_time": "2023-09-25T14:36:47.704117Z",
     "start_time": "2023-09-25T14:36:47.677004Z"
    }
   }
  },
  {
   "cell_type": "code",
   "execution_count": 134,
   "outputs": [],
   "source": [
    "_data_agg = np.zeros([BATCH_SIZE*nodes,INPUT_DIM],dtype=np.float32)\n",
    "_data_perturbed_agg = np.zeros([BATCH_SIZE*nodes,INPUT_DIM],dtype=np.float32)\n",
    "_labels_agg = np.zeros([BATCH_SIZE*nodes],dtype=np.int64)"
   ],
   "metadata": {
    "collapsed": false,
    "ExecuteTime": {
     "end_time": "2023-09-25T14:41:46.993515Z",
     "start_time": "2023-09-25T14:41:46.981244Z"
    }
   }
  },
  {
   "cell_type": "code",
   "execution_count": 135,
   "outputs": [
    {
     "data": {
      "text/plain": "dict_keys(['0', '1', '2', '3', '4'])"
     },
     "execution_count": 135,
     "metadata": {},
     "output_type": "execute_result"
    }
   ],
   "source": [
    "models ={}\n",
    "\n",
    "for i in range(nodes):\n",
    "    model_name = f\"{i}\"  # 给模型指定名称，例如 \"model_1\", \"model_2\", ...\n",
    "    model = AlexNet(num=i)\n",
    "    models[model_name] = model\n",
    "\n",
    "models.keys()\n"
   ],
   "metadata": {
    "collapsed": false,
    "ExecuteTime": {
     "end_time": "2023-09-25T14:41:47.970008Z",
     "start_time": "2023-09-25T14:41:47.572287Z"
    }
   }
  },
  {
   "cell_type": "code",
   "execution_count": 136,
   "outputs": [],
   "source": [
    "theta = nn.Parameter(torch.zeros(nodes, INPUT_DIM))\n",
    "theta_1 = nn.Parameter(torch.ones(nodes, INPUT_DIM))\n",
    "maxVar = nn.Parameter(torch.zeros(nodes, INPUT_DIM))\n",
    "maxVar_1 = nn.Parameter(torch.zeros(nodes, INPUT_DIM))\n",
    "\n",
    "nn_params = list(models[str(i)].parameters()) + [theta] + [theta_1]\n",
    "max_params = [maxVar]+[maxVar_1]\n",
    "\n",
    "Classifier_train_op = optim.Adam([ {'params': nn_params, 'lr': 1e-3}])\n",
    "Max_train_op = optim.Adam([{'params': max_params, 'lr': 1e-4}])"
   ],
   "metadata": {
    "collapsed": false,
    "ExecuteTime": {
     "end_time": "2023-09-25T14:41:48.007289Z",
     "start_time": "2023-09-25T14:41:47.971681Z"
    }
   }
  },
  {
   "cell_type": "code",
   "execution_count": 137,
   "outputs": [],
   "source": [
    "criterion = nn.CrossEntropyLoss()\n",
    "LAMBDA_0 = 10.0\n",
    "LAMBDA_1 = 1.0\n",
    "adv_stepsize = 2.0\n"
   ],
   "metadata": {
    "collapsed": false,
    "ExecuteTime": {
     "end_time": "2023-09-25T14:41:49.056594Z",
     "start_time": "2023-09-25T14:41:49.053114Z"
    }
   }
  },
  {
   "cell_type": "code",
   "execution_count": 142,
   "outputs": [],
   "source": [
    "noise_std = 5.0\n",
    "perturbation_add_train = noise_std*np.random.normal(size=[nodes,INPUT_DIM])\n",
    "matrix_mult_train = (noise_std/(np.sqrt(INPUT_DIM)))*np.random.normal(size=[nodes,INPUT_DIM,INPUT_DIM])"
   ],
   "metadata": {
    "collapsed": false,
    "ExecuteTime": {
     "end_time": "2023-09-25T14:47:22.329131Z",
     "start_time": "2023-09-25T14:47:21.334331Z"
    }
   }
  },
  {
   "cell_type": "code",
   "execution_count": 1,
   "outputs": [],
   "source": [
    "\n",
    "for batch_num, (data, target) in enumerate(train_loader):\n",
    "    Max_train_op.zero_grad()\n",
    "    Classifier_train_op.zero_grad()\n",
    "\n",
    "    for k in range(nodes):\n",
    "        _data = np.array(data) # todo : npararry\n",
    "        _data_agg[k*BATCH_SIZE:(k+1)*BATCH_SIZE,:] += np.matmul(_data_agg[k*BATCH_SIZE:(k+1)*BATCH_SIZE,:], np.squeeze(matrix_mult_train[k,:,:]))\n",
    "        _data_agg[k*BATCH_SIZE:(k+1)*BATCH_SIZE,:] +=  perturbation_add_train[k,:]\n",
    "        _labels_agg[k*BATCH_SIZE:(k+1)*BATCH_SIZE] = np.array(target) # todo : npararry\n",
    "    # print(_data_agg)\n",
    "    _data = np.int32(_data_agg)\n",
    "    _labels = _labels_agg\n",
    "\n",
    "    real_data = torch.tensor(_data, dtype = torch.float32)\n",
    "    label = torch.tensor( _labels, dtype = torch.int64)\n",
    "\n",
    "    data_perturbed_list = []\n",
    "    data_perturbed_list_max = []\n",
    "    NN_out_perturbed_list = []\n",
    "\n",
    "    for i in range(nodes):\n",
    "        # data_perturbed_list.append(torch.mul(real_data[i * BATCH_SIZE:(i + 1) * BATCH_SIZE, :], theta_1[i, :]) + theta[i, :]) # (10,3072)\n",
    "        data_perturbed_list.append(torch.mul(real_data[i * BATCH_SIZE:(i + 1) * BATCH_SIZE, :], theta_1[i, :]) + theta[i, :])\n",
    "\n",
    "    data_perturbed = torch.stack(data_perturbed_list) # ([100, 10, 3072])\n",
    "    data_perturbed_max = data_perturbed.clone().mean(dim=1)\n",
    "    data_perturbed_pow_2_max = (data_perturbed ** 2).clone().mean(dim=1) # (100,3072)\n",
    "\n",
    "    for i in range(nodes):\n",
    "        NN_out_perturbed_list.append(models[str(i)](data_perturbed[i, :, :].reshape(BATCH_SIZE,3,32,32 )))\n",
    "\n",
    "    NN_out_perturbed = torch.stack(NN_out_perturbed_list)\n",
    "    NN_out_perturbed = NN_out_perturbed.view(BATCH_SIZE * nodes, 10) # [1000, 10]\n",
    "\n",
    "    train_acc = (NN_out_perturbed.argmax(dim=1) == label).float().mean()\n",
    "    train_loss = criterion(NN_out_perturbed, label)\n",
    "\n",
    "    # print('NN_out_perturbed.argmax(dim=1) ',NN_out_perturbed.argmax(dim=1) )\n",
    "\n",
    "    max_loss = torch.sum(data_perturbed_max * (maxVar.clone() - maxVar.clone().mean(dim=0)))\n",
    "    max_loss_1 = torch.sum(data_perturbed_pow_2_max * (maxVar_1.clone() - maxVar_1.clone().mean(dim=0)))\n",
    "\n",
    "    train_loss_2 = train_loss - LAMBDA_0 * torch.sum(maxVar.clone() ** 2) - LAMBDA_1 * torch.sum(maxVar_1.clone() ** 2) + adv_stepsize * (max_loss + max_loss_1)\n",
    "\n",
    "\n",
    "    print('train_acc {}, train_loss_2 {}'.format(train_acc, train_loss_2))\n",
    "\n",
    "\n",
    "    Classifier_train_loss =  train_loss_2.clone()\n",
    "    Max_train_op_loss = - train_loss_2.clone()\n",
    "\n",
    "\n",
    "    Max_train_op_loss.backward(retain_graph=True)\n",
    "    Max_train_op.step()\n",
    "\n",
    "    Classifier_train_loss.backward()\n",
    "    Classifier_train_op.step()"
   ],
   "metadata": {
    "collapsed": false,
    "ExecuteTime": {
     "end_time": "2023-09-25T14:53:36.930543Z",
     "start_time": "2023-09-25T14:53:36.922217Z"
    }
   }
  },
  {
   "cell_type": "code",
   "execution_count": null,
   "metadata": {},
   "outputs": [],
   "source": []
  }
 ],
 "metadata": {
  "kernelspec": {
   "display_name": "Python 3 (ipykernel)",
   "language": "python",
   "name": "python3"
  },
  "language_info": {
   "codemirror_mode": {
    "name": "ipython",
    "version": 3
   },
   "file_extension": ".py",
   "mimetype": "text/x-python",
   "name": "python",
   "nbconvert_exporter": "python",
   "pygments_lexer": "ipython3",
   "version": "3.9.13"
  },
  "latex_envs": {
   "LaTeX_envs_menu_present": true,
   "autoclose": false,
   "autocomplete": true,
   "bibliofile": "biblio.bib",
   "cite_by": "apalike",
   "current_citInitial": 1,
   "eqLabelWithNumbers": true,
   "eqNumInitial": 1,
   "hotkeys": {
    "equation": "Ctrl-E",
    "itemize": "Ctrl-I"
   },
   "labels_anchors": false,
   "latex_user_defs": false,
   "report_style_numbering": false,
   "user_envs_cfg": false
  },
  "toc": {
   "base_numbering": 1,
   "nav_menu": {},
   "number_sections": true,
   "sideBar": true,
   "skip_h1_title": false,
   "title_cell": "Table of Contents",
   "title_sidebar": "Contents",
   "toc_cell": false,
   "toc_position": {},
   "toc_section_display": true,
   "toc_window_display": false
  },
  "varInspector": {
   "cols": {
    "lenName": 16,
    "lenType": 16,
    "lenVar": 40
   },
   "kernels_config": {
    "python": {
     "delete_cmd_postfix": "",
     "delete_cmd_prefix": "del ",
     "library": "var_list.py",
     "varRefreshCmd": "print(var_dic_list())"
    },
    "r": {
     "delete_cmd_postfix": ") ",
     "delete_cmd_prefix": "rm(",
     "library": "var_list.r",
     "varRefreshCmd": "cat(var_dic_list()) "
    }
   },
   "types_to_exclude": [
    "module",
    "function",
    "builtin_function_or_method",
    "instance",
    "_Feature"
   ],
   "window_display": false
  }
 },
 "nbformat": 4,
 "nbformat_minor": 2
}
